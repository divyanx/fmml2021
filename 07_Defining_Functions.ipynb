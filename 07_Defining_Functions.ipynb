{
  "nbformat": 4,
  "nbformat_minor": 0,
  "metadata": {
    "colab": {
      "name": "07_Defining_Functions.ipynb",
      "provenance": [],
      "include_colab_link": true
    },
    "kernelspec": {
      "name": "python3",
      "display_name": "Python 3"
    },
    "language_info": {
      "name": "python"
    }
  },
  "cells": [
    {
      "cell_type": "markdown",
      "metadata": {
        "id": "view-in-github",
        "colab_type": "text"
      },
      "source": [
        "<a href=\"https://colab.research.google.com/github/divyanx/fmml2021/blob/main/07_Defining_Functions.ipynb\" target=\"_parent\"><img src=\"https://colab.research.google.com/assets/colab-badge.svg\" alt=\"Open In Colab\"/></a>"
      ]
    },
    {
      "cell_type": "code",
      "metadata": {
        "id": "1pqsgNqwnbHE"
      },
      "source": [
        "def inList (my_char, my_list=['a','e','i','o','u']):\n",
        "  \"\"\" this is a function to check whether a char is vowel or not \"\"\"\n",
        "  for each_char in my_list:\n",
        "    if each_char == my_char.lower():\n",
        "      return True\n",
        "  return False"
      ],
      "execution_count": null,
      "outputs": []
    },
    {
      "cell_type": "code",
      "metadata": {
        "id": "SLpNGCWYn6Er"
      },
      "source": [
        "inList('Z', ['x', 'y', 'z'])"
      ],
      "execution_count": null,
      "outputs": []
    },
    {
      "cell_type": "code",
      "metadata": {
        "id": "r_KUNOW3rCc6"
      },
      "source": [
        "# Write a function to check whether a given number belongs to fibonacci series or not\n",
        "def checkFibo(x, fib0 = 0, fib1 = 1):\n",
        "  if x == 0 or x == 1:\n",
        "    return True\n",
        "  while fib0 < x:\n",
        "    fib0, fib1 = fib1, fib0 + fib1\n",
        "    if x == fib0:\n",
        "      return True\n",
        "  return False \n"
      ],
      "execution_count": 3,
      "outputs": []
    },
    {
      "cell_type": "code",
      "metadata": {
        "id": "YN-KMLSsznB9",
        "outputId": "33d80fcf-b2d2-430a-8297-fa8771bacec8",
        "colab": {
          "base_uri": "https://localhost:8080/"
        }
      },
      "source": [
        "if checkFibo(2):\n",
        "  print(\"2 is a Fibonacci number\") \n",
        "else:\n",
        "  print(\"2 is not a Fibonacci number\")\n",
        "\n",
        "if checkFibo(4):\n",
        "  print(\"4 is a Fibonacci number\")\n",
        "else:\n",
        "  print(\"4 is not a Fibonacci number\")\n",
        "\n",
        "if checkFibo(433494437): \n",
        "  print(\"433494437 is a Fibonacci number\") \n",
        "else: \n",
        "  print(\"433494437 is not a Fibonacci number\")\n",
        "\n",
        "if checkFibo(433494434): \n",
        "  print(\"433494434 is a Fibonacci number\") \n",
        "else: \n",
        "  print(\"433494434 is not a Fibonacci number\")\n",
        "  "
      ],
      "execution_count": 8,
      "outputs": [
        {
          "output_type": "stream",
          "name": "stdout",
          "text": [
            "2 is a Fibonacci number\n",
            "4 is not a Fibonacci number\n",
            "433494437 is a Fibonacci number\n",
            "433494434 is not a Fibonacci number\n"
          ]
        }
      ]
    },
    {
      "cell_type": "markdown",
      "metadata": {
        "id": "3hfExC9BPkKK"
      },
      "source": [
        "Reference: [Python Documentation on Functions](https://docs.python.org/3/tutorial/controlflow.html#defining-functions)"
      ]
    }
  ]
}