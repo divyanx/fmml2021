{
  "nbformat": 4,
  "nbformat_minor": 0,
  "metadata": {
    "colab": {
      "name": "MySolution.ipynb",
      "provenance": [],
      "authorship_tag": "ABX9TyOd+1EtDdq1/mFucHUUf4im",
      "include_colab_link": true
    },
    "kernelspec": {
      "name": "python3",
      "display_name": "Python 3"
    },
    "language_info": {
      "name": "python"
    }
  },
  "cells": [
    {
      "cell_type": "markdown",
      "metadata": {
        "id": "view-in-github",
        "colab_type": "text"
      },
      "source": [
        "<a href=\"https://colab.research.google.com/github/divyanx/fmml2021/blob/main/MySolution.ipynb\" target=\"_parent\"><img src=\"https://colab.research.google.com/assets/colab-badge.svg\" alt=\"Open In Colab\"/></a>"
      ]
    },
    {
      "cell_type": "code",
      "metadata": {
        "id": "VnlKCz1BLJph"
      },
      "source": [
        "import numpy as np"
      ],
      "execution_count": 22,
      "outputs": []
    },
    {
      "cell_type": "code",
      "metadata": {
        "id": "fHX6e4nzL3vj"
      },
      "source": [
        "citizens = ['AAA', 'AAB', 'ACA', 'ABB']\n",
        "citizen_data = [[20, 122, 20],\n",
        "                [35, 180, 35],\n",
        "                [50, 220, 65],\n",
        "                [70, 300, 30]]\n",
        "contri = [[ 0.05], [ 0.002],[ 0.02]]"
      ],
      "execution_count": 23,
      "outputs": []
    },
    {
      "cell_type": "code",
      "metadata": {
        "colab": {
          "base_uri": "https://localhost:8080/"
        },
        "id": "13f-Jf4aMMeY",
        "outputId": "d858c380-0d3e-4907-822c-6ca3e29d697e"
      },
      "source": [
        "cdata = np.array(citizen_data)\n",
        "print(cdata)"
      ],
      "execution_count": 24,
      "outputs": [
        {
          "output_type": "stream",
          "name": "stdout",
          "text": [
            "[[ 20 122  20]\n",
            " [ 35 180  35]\n",
            " [ 50 220  65]\n",
            " [ 70 300  30]]\n"
          ]
        }
      ]
    },
    {
      "cell_type": "code",
      "metadata": {
        "colab": {
          "base_uri": "https://localhost:8080/"
        },
        "id": "XrltdGQLNrPu",
        "outputId": "44e1dac9-8771-4be1-b4ef-b630e81d5e1d"
      },
      "source": [
        "contri_vector = np.array(contri)\n",
        "print(contri_vector)"
      ],
      "execution_count": 25,
      "outputs": [
        {
          "output_type": "stream",
          "name": "stdout",
          "text": [
            "[[0.05 ]\n",
            " [0.002]\n",
            " [0.02 ]]\n"
          ]
        }
      ]
    },
    {
      "cell_type": "code",
      "metadata": {
        "colab": {
          "base_uri": "https://localhost:8080/"
        },
        "id": "x9-XggwaOySw",
        "outputId": "fade95b7-4609-4210-9f13-ead690f7bd7c"
      },
      "source": [
        "vals = np.matmul(cdata, contri_vector)\n",
        "print(vals)"
      ],
      "execution_count": 26,
      "outputs": [
        {
          "output_type": "stream",
          "name": "stdout",
          "text": [
            "[[1.644]\n",
            " [2.81 ]\n",
            " [4.24 ]\n",
            " [4.7  ]]\n"
          ]
        }
      ]
    },
    {
      "cell_type": "code",
      "metadata": {
        "colab": {
          "base_uri": "https://localhost:8080/"
        },
        "id": "MCHk3KeSPYh5",
        "outputId": "8c6cec4c-f5c9-46d9-fc4c-1aa2d8219b64"
      },
      "source": [
        "ans = []\n",
        "for i in range(vals.size):\n",
        "  if(vals[i][0] > 4):\n",
        "    ans.append(citizens[i])\n",
        "print(ans)"
      ],
      "execution_count": 29,
      "outputs": [
        {
          "output_type": "stream",
          "name": "stdout",
          "text": [
            "['ACA', 'ABB']\n"
          ]
        }
      ]
    }
  ]
}